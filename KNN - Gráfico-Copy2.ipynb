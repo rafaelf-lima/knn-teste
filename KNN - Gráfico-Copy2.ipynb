{
 "cells": [
  {
   "cell_type": "markdown",
   "id": "ed15866d",
   "metadata": {},
   "source": [
    "# Utilizando o dataset Iris presente na biblioteca SKLearn para aplicar o algoritmo KNN"
   ]
  },
  {
   "cell_type": "code",
   "execution_count": null,
   "id": "ae15bc2b",
   "metadata": {},
   "outputs": [],
   "source": [
    "import matplotlib.pyplot as plt\n",
    "import pandas as pd\n",
    "from sklearn.datasets import load_iris\n",
    "from sklearn import metrics\n",
    "from sklearn.neighbors import KNeighborsClassifier\n",
    "from sklearn.model_selection import train_test_split\n",
    "from matplotlib.ticker import FuncFormatter"
   ]
  },
  {
   "cell_type": "code",
   "execution_count": null,
   "id": "ce252a7d",
   "metadata": {},
   "outputs": [],
   "source": [
    "data = load_iris()\n",
    "df = pd.DataFrame(data.data, columns=data.feature_names)\n",
    "df.head()"
   ]
  },
  {
   "cell_type": "markdown",
   "id": "0390ea6c",
   "metadata": {},
   "source": [
    "# Analisando o dataset com informações presentes na documentação do dataset (https://scikit-learn.org/stable/modules/generated/sklearn.datasets.load_iris.html)"
   ]
  },
  {
   "cell_type": "code",
   "execution_count": null,
   "id": "ff736588",
   "metadata": {},
   "outputs": [],
   "source": [
    "# Descrição geral do dataset\n",
    "data"
   ]
  },
  {
   "cell_type": "code",
   "execution_count": null,
   "id": "4b728a19",
   "metadata": {},
   "outputs": [],
   "source": [
    "# Exibição dos  \n",
    "dir(data)"
   ]
  },
  {
   "cell_type": "code",
   "execution_count": null,
   "id": "f3461963",
   "metadata": {},
   "outputs": [],
   "source": [
    "# Exibição de como o dataset está distribuído. São, portanto, 150 registros em 4 colunas (sepal length (cm), sepal width, petal length e petal width (cm))\n",
    "print(data.data.shape)"
   ]
  },
  {
   "cell_type": "code",
   "execution_count": null,
   "id": "5e267f93",
   "metadata": {},
   "outputs": [],
   "source": [
    "# O nome das features presentes no dataset, ou seja, as características das instâncias\n",
    "data.feature_names"
   ]
  },
  {
   "cell_type": "code",
   "execution_count": null,
   "id": "b5fa6237",
   "metadata": {},
   "outputs": [],
   "source": [
    "# O nome das classes presentes no dataset, ou seja, são três opções para atribuição de uma nova instância ao fazer a predição\n",
    "data.target_names"
   ]
  },
  {
   "cell_type": "code",
   "execution_count": null,
   "id": "498b9db7",
   "metadata": {},
   "outputs": [],
   "source": [
    "# A classe dos 150 dados presentes no dataset\n",
    "data.target"
   ]
  },
  {
   "cell_type": "code",
   "execution_count": null,
   "id": "b7c64148",
   "metadata": {},
   "outputs": [],
   "source": [
    "# Descrição do dataset\n",
    "data.DESCR"
   ]
  },
  {
   "cell_type": "code",
   "execution_count": null,
   "id": "7e4df35a",
   "metadata": {},
   "outputs": [],
   "source": [
    "# Exemplo de três amostras que estão em diferentes classes\n",
    "data.target[[10, 50, 120]]"
   ]
  },
  {
   "cell_type": "markdown",
   "id": "4a9ce3f5",
   "metadata": {},
   "source": [
    "# Começando a utilizar o algoritmo KNN"
   ]
  },
  {
   "cell_type": "code",
   "execution_count": null,
   "id": "6f8c6498",
   "metadata": {
    "scrolled": true
   },
   "outputs": [],
   "source": [
    "X_train, X_test, y_train, y_test = train_test_split(data.data, data.target, test_size=0.2, random_state = 42)\n",
    "medias_acuracia = []\n",
    "n = 20\n",
    "\n",
    "for i in range (n):\n",
    "    for k in range(2,40):\n",
    "        acuracia = []\n",
    "        testeK = KNeighborsClassifier(n_neighbors = k).fit(X_train, y_train)\n",
    "        y_predTeste = testeK.predict(X_test)\n",
    "        acuracia.append(metrics.accuracy_score(y_test, y_predTeste))\n",
    "    medias_acuracia.append((sum(acuracia) / len(acuracia)))\n",
    "\n",
    "\n",
    "print(acuracia)\n",
    "\n",
    "plt.figure(figsize=(14, 8), facecolor = \"grey\")  \n",
    "plt.plot(range(2,40), medias_acuracia, color = 'white', linestyle='dashed', marker = '*', markerfacecolor = 'black', markersize = 14)\n",
    "plt.suptitle(titulo, size = '14', fontweight = \"bold\", fontname = \"sans\")\n",
    "plt.title(subtitle_titulo, size = '8', fontweight = \"bold\", fontname = \"sans\")\n",
    "plt.xticks(range(2,40), fontsize = 8, fontweight = \"bold\")\n",
    "plt.yticks(fontsize = 8, fontweight = \"bold\")\n",
    "plt.xlabel('Valor de K escolhido', fontname=\"Sans\", size='8',fontweight=\"bold\")\n",
    "plt.ylabel('Acurácia de cada valor de K', fontname=\"Sans\", size='8',fontweight=\"bold\")\n",
    "plt.text(25, 0.84, 'Fonte:\\n https://towardsdatascience.com/how-to-find-the-optimal-value-of-k-in-knn-35d936e554eb', size = '6', fontweight = \"bold\")\n",
    "plt.tick_params(bottom=False)\n",
    "plt.tick_params(left=False)\n",
    "plt.grid(alpha = .2)\n",
    "\n",
    "ax = plt.gca()\n",
    "ax.set_facecolor('grey')\n",
    "ax.yaxis.set_major_formatter(FuncFormatter('{0:.0%}'.format))\n"
   ]
  }
 ],
 "metadata": {
  "kernelspec": {
   "display_name": "Python 3 (ipykernel)",
   "language": "python",
   "name": "python3"
  },
  "language_info": {
   "codemirror_mode": {
    "name": "ipython",
    "version": 3
   },
   "file_extension": ".py",
   "mimetype": "text/x-python",
   "name": "python",
   "nbconvert_exporter": "python",
   "pygments_lexer": "ipython3",
   "version": "3.9.12"
  }
 },
 "nbformat": 4,
 "nbformat_minor": 5
}
